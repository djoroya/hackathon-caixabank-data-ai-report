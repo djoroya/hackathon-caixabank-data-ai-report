{
 "cells": [
  {
   "cell_type": "code",
   "execution_count": 59,
   "metadata": {},
   "outputs": [],
   "source": [
    "import json,glob\n",
    "import pandas as pd"
   ]
  },
  {
   "cell_type": "code",
   "execution_count": 60,
   "metadata": {},
   "outputs": [],
   "source": [
    "data_cards = glob.glob(\"data_cards/*\")\n",
    "cards_clients = [ json.load(open(f)) for f in data_cards ]"
   ]
  },
  {
   "cell_type": "code",
   "execution_count": 61,
   "metadata": {},
   "outputs": [],
   "source": [
    "cards = []\n",
    "\n",
    "for cards_client in cards_clients:\n",
    "    values = cards_client['values']\n",
    "\n",
    "    card_ids = values.keys()\n",
    "\n",
    "    for icard in card_ids:\n",
    "\n",
    "        r = {\n",
    "            \"card_id\": icard,\n",
    "            \"client_id\": cards_client['client_id'],\n",
    "            **values[icard]\n",
    "        }\n",
    "\n",
    "        cards.append(r)\n"
   ]
  },
  {
   "cell_type": "code",
   "execution_count": 62,
   "metadata": {},
   "outputs": [],
   "source": [
    "keys = cards[0].keys()\n",
    "\n",
    "full_data = {}\n",
    "\n",
    "for key in keys:\n",
    "    full_data[key] = [ c[key] for c in cards ]\n",
    "\n",
    "full_data_df = pd.DataFrame(full_data)\n",
    "full_data_df.to_csv(\"df_cards.csv\",index=False)"
   ]
  },
  {
   "cell_type": "markdown",
   "metadata": {},
   "source": [
    "# Clients"
   ]
  },
  {
   "cell_type": "code",
   "execution_count": 63,
   "metadata": {},
   "outputs": [],
   "source": [
    "data_cards = glob.glob(\"data_clients/*\")\n",
    "clients = [ json.load(open(f)) for f in data_cards ]"
   ]
  },
  {
   "cell_type": "code",
   "execution_count": 64,
   "metadata": {},
   "outputs": [],
   "source": [
    "cards = []\n",
    "\n",
    "for client in clients:\n",
    "    values = client['values']\n",
    "\n",
    "    r = {\"client_id\": client['client_id'],\n",
    "            **values}\n",
    "\n",
    "    cards.append(r)\n"
   ]
  },
  {
   "cell_type": "code",
   "execution_count": 65,
   "metadata": {},
   "outputs": [],
   "source": [
    "keys = cards[0].keys()\n",
    "\n",
    "full_data = {}\n",
    "\n",
    "for key in keys:\n",
    "    full_data[key] = [ c[key] for c in cards ]\n",
    "\n",
    "full_data_df = pd.DataFrame(full_data)\n",
    "full_data_df.to_csv(\"df_clients.csv\",index=False)"
   ]
  },
  {
   "cell_type": "code",
   "execution_count": 66,
   "metadata": {},
   "outputs": [
    {
     "data": {
      "text/plain": [
       "dict"
      ]
     },
     "execution_count": 66,
     "metadata": {},
     "output_type": "execute_result"
    }
   ],
   "source": [
    "type(values)"
   ]
  },
  {
   "cell_type": "code",
   "execution_count": null,
   "metadata": {},
   "outputs": [],
   "source": []
  }
 ],
 "metadata": {
  "kernelspec": {
   "display_name": ".conda",
   "language": "python",
   "name": "python3"
  },
  "language_info": {
   "codemirror_mode": {
    "name": "ipython",
    "version": 3
   },
   "file_extension": ".py",
   "mimetype": "text/x-python",
   "name": "python",
   "nbconvert_exporter": "python",
   "pygments_lexer": "ipython3",
   "version": "3.13.0"
  }
 },
 "nbformat": 4,
 "nbformat_minor": 2
}
