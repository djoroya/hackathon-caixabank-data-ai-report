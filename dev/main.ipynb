{
 "cells": [
  {
   "cell_type": "code",
   "execution_count": 17,
   "metadata": {},
   "outputs": [],
   "source": [
    "import json\n",
    "import pandas as pd"
   ]
  },
  {
   "cell_type": "code",
   "execution_count": 18,
   "metadata": {},
   "outputs": [],
   "source": [
    "data = json.load(open('data/train_fraud_labels.json'))"
   ]
  },
  {
   "cell_type": "code",
   "execution_count": 19,
   "metadata": {},
   "outputs": [],
   "source": [
    "df_transactions = pd.read_csv('data/transactions_data.csv')"
   ]
  },
  {
   "cell_type": "code",
   "execution_count": 20,
   "metadata": {},
   "outputs": [
    {
     "data": {
      "text/html": [
       "<div>\n",
       "<style scoped>\n",
       "    .dataframe tbody tr th:only-of-type {\n",
       "        vertical-align: middle;\n",
       "    }\n",
       "\n",
       "    .dataframe tbody tr th {\n",
       "        vertical-align: top;\n",
       "    }\n",
       "\n",
       "    .dataframe thead th {\n",
       "        text-align: right;\n",
       "    }\n",
       "</style>\n",
       "<table border=\"1\" class=\"dataframe\">\n",
       "  <thead>\n",
       "    <tr style=\"text-align: right;\">\n",
       "      <th></th>\n",
       "      <th>id</th>\n",
       "      <th>date</th>\n",
       "      <th>client_id</th>\n",
       "      <th>card_id</th>\n",
       "      <th>amount</th>\n",
       "      <th>use_chip</th>\n",
       "      <th>merchant_id</th>\n",
       "      <th>merchant_city</th>\n",
       "      <th>merchant_state</th>\n",
       "      <th>zip</th>\n",
       "      <th>mcc</th>\n",
       "      <th>errors</th>\n",
       "    </tr>\n",
       "  </thead>\n",
       "  <tbody>\n",
       "    <tr>\n",
       "      <th>0</th>\n",
       "      <td>7475327</td>\n",
       "      <td>2010-01-01 00:01:00</td>\n",
       "      <td>1556</td>\n",
       "      <td>2972</td>\n",
       "      <td>$-77.00</td>\n",
       "      <td>Swipe Transaction</td>\n",
       "      <td>59935</td>\n",
       "      <td>Beulah</td>\n",
       "      <td>ND</td>\n",
       "      <td>58523.0</td>\n",
       "      <td>5499</td>\n",
       "      <td>NaN</td>\n",
       "    </tr>\n",
       "    <tr>\n",
       "      <th>1</th>\n",
       "      <td>7475328</td>\n",
       "      <td>2010-01-01 00:02:00</td>\n",
       "      <td>561</td>\n",
       "      <td>4575</td>\n",
       "      <td>$14.57</td>\n",
       "      <td>Swipe Transaction</td>\n",
       "      <td>67570</td>\n",
       "      <td>Bettendorf</td>\n",
       "      <td>IA</td>\n",
       "      <td>52722.0</td>\n",
       "      <td>5311</td>\n",
       "      <td>NaN</td>\n",
       "    </tr>\n",
       "    <tr>\n",
       "      <th>2</th>\n",
       "      <td>7475329</td>\n",
       "      <td>2010-01-01 00:02:00</td>\n",
       "      <td>1129</td>\n",
       "      <td>102</td>\n",
       "      <td>$80.00</td>\n",
       "      <td>Swipe Transaction</td>\n",
       "      <td>27092</td>\n",
       "      <td>Vista</td>\n",
       "      <td>CA</td>\n",
       "      <td>92084.0</td>\n",
       "      <td>4829</td>\n",
       "      <td>NaN</td>\n",
       "    </tr>\n",
       "    <tr>\n",
       "      <th>3</th>\n",
       "      <td>7475331</td>\n",
       "      <td>2010-01-01 00:05:00</td>\n",
       "      <td>430</td>\n",
       "      <td>2860</td>\n",
       "      <td>$200.00</td>\n",
       "      <td>Swipe Transaction</td>\n",
       "      <td>27092</td>\n",
       "      <td>Crown Point</td>\n",
       "      <td>IN</td>\n",
       "      <td>46307.0</td>\n",
       "      <td>4829</td>\n",
       "      <td>NaN</td>\n",
       "    </tr>\n",
       "    <tr>\n",
       "      <th>4</th>\n",
       "      <td>7475332</td>\n",
       "      <td>2010-01-01 00:06:00</td>\n",
       "      <td>848</td>\n",
       "      <td>3915</td>\n",
       "      <td>$46.41</td>\n",
       "      <td>Swipe Transaction</td>\n",
       "      <td>13051</td>\n",
       "      <td>Harwood</td>\n",
       "      <td>MD</td>\n",
       "      <td>20776.0</td>\n",
       "      <td>5813</td>\n",
       "      <td>NaN</td>\n",
       "    </tr>\n",
       "  </tbody>\n",
       "</table>\n",
       "</div>"
      ],
      "text/plain": [
       "        id                 date  client_id  card_id   amount  \\\n",
       "0  7475327  2010-01-01 00:01:00       1556     2972  $-77.00   \n",
       "1  7475328  2010-01-01 00:02:00        561     4575   $14.57   \n",
       "2  7475329  2010-01-01 00:02:00       1129      102   $80.00   \n",
       "3  7475331  2010-01-01 00:05:00        430     2860  $200.00   \n",
       "4  7475332  2010-01-01 00:06:00        848     3915   $46.41   \n",
       "\n",
       "            use_chip  merchant_id merchant_city merchant_state      zip   mcc  \\\n",
       "0  Swipe Transaction        59935        Beulah             ND  58523.0  5499   \n",
       "1  Swipe Transaction        67570    Bettendorf             IA  52722.0  5311   \n",
       "2  Swipe Transaction        27092         Vista             CA  92084.0  4829   \n",
       "3  Swipe Transaction        27092   Crown Point             IN  46307.0  4829   \n",
       "4  Swipe Transaction        13051       Harwood             MD  20776.0  5813   \n",
       "\n",
       "  errors  \n",
       "0    NaN  \n",
       "1    NaN  \n",
       "2    NaN  \n",
       "3    NaN  \n",
       "4    NaN  "
      ]
     },
     "execution_count": 20,
     "metadata": {},
     "output_type": "execute_result"
    }
   ],
   "source": [
    "df_transactions.head()"
   ]
  },
  {
   "cell_type": "code",
   "execution_count": null,
   "metadata": {},
   "outputs": [],
   "source": [
    "# Yes -> 1, No -> 0\n",
    "df_transactions.pop(\"errors\")\n",
    "df_transactions.pop(\"card_id\")"
   ]
  },
  {
   "cell_type": "code",
   "execution_count": 21,
   "metadata": {},
   "outputs": [],
   "source": [
    "df_transactions['is_fraud'] = df_transactions['id'].apply(lambda x: data[\"target\"][str(x)] if str(x) in data[\"target\"] else \"unknown\")\n",
    "df_transactions = df_transactions[df_transactions['is_fraud'] != \"unknown\"]\n",
    "df_transactions['is_fraud'] = df_transactions['is_fraud'].apply(lambda x: 1 if x == \"Yes\" else 0)\n",
    "\n",
    "df_transactions[\"amount\"] = df_transactions[\"amount\"].apply(lambda x: x.replace(\"$\", \"\")).astype(float)\n",
    "df_transactions['amount'] = (df_transactions['amount'] - df_transactions['amount'].mean()) / df_transactions['amount'].std()\n"
   ]
  },
  {
   "cell_type": "code",
   "execution_count": 23,
   "metadata": {},
   "outputs": [
    {
     "data": {
      "text/plain": [
       "is_fraud\n",
       "0    8901631\n",
       "1      13332\n",
       "Name: count, dtype: int64"
      ]
     },
     "execution_count": 23,
     "metadata": {},
     "output_type": "execute_result"
    }
   ],
   "source": [
    "df_transactions['is_fraud'].value_counts()"
   ]
  },
  {
   "cell_type": "code",
   "execution_count": 24,
   "metadata": {},
   "outputs": [
    {
     "data": {
      "text/html": [
       "<div>\n",
       "<style scoped>\n",
       "    .dataframe tbody tr th:only-of-type {\n",
       "        vertical-align: middle;\n",
       "    }\n",
       "\n",
       "    .dataframe tbody tr th {\n",
       "        vertical-align: top;\n",
       "    }\n",
       "\n",
       "    .dataframe thead th {\n",
       "        text-align: right;\n",
       "    }\n",
       "</style>\n",
       "<table border=\"1\" class=\"dataframe\">\n",
       "  <thead>\n",
       "    <tr style=\"text-align: right;\">\n",
       "      <th></th>\n",
       "      <th>id</th>\n",
       "      <th>date</th>\n",
       "      <th>client_id</th>\n",
       "      <th>amount</th>\n",
       "      <th>use_chip</th>\n",
       "      <th>merchant_id</th>\n",
       "      <th>merchant_city</th>\n",
       "      <th>merchant_state</th>\n",
       "      <th>zip</th>\n",
       "      <th>mcc</th>\n",
       "      <th>is_fraud</th>\n",
       "    </tr>\n",
       "  </thead>\n",
       "  <tbody>\n",
       "    <tr>\n",
       "      <th>0</th>\n",
       "      <td>7475327</td>\n",
       "      <td>2010-01-01 00:01:00</td>\n",
       "      <td>1556</td>\n",
       "      <td>-1.469291</td>\n",
       "      <td>Swipe Transaction</td>\n",
       "      <td>59935</td>\n",
       "      <td>Beulah</td>\n",
       "      <td>ND</td>\n",
       "      <td>58523.0</td>\n",
       "      <td>5499</td>\n",
       "      <td>0</td>\n",
       "    </tr>\n",
       "    <tr>\n",
       "      <th>1</th>\n",
       "      <td>7475328</td>\n",
       "      <td>2010-01-01 00:02:00</td>\n",
       "      <td>561</td>\n",
       "      <td>-0.347876</td>\n",
       "      <td>Swipe Transaction</td>\n",
       "      <td>67570</td>\n",
       "      <td>Bettendorf</td>\n",
       "      <td>IA</td>\n",
       "      <td>52722.0</td>\n",
       "      <td>5311</td>\n",
       "      <td>0</td>\n",
       "    </tr>\n",
       "    <tr>\n",
       "      <th>2</th>\n",
       "      <td>7475329</td>\n",
       "      <td>2010-01-01 00:02:00</td>\n",
       "      <td>1129</td>\n",
       "      <td>0.453415</td>\n",
       "      <td>Swipe Transaction</td>\n",
       "      <td>27092</td>\n",
       "      <td>Vista</td>\n",
       "      <td>CA</td>\n",
       "      <td>92084.0</td>\n",
       "      <td>4829</td>\n",
       "      <td>0</td>\n",
       "    </tr>\n",
       "    <tr>\n",
       "      <th>4</th>\n",
       "      <td>7475332</td>\n",
       "      <td>2010-01-01 00:06:00</td>\n",
       "      <td>848</td>\n",
       "      <td>0.042054</td>\n",
       "      <td>Swipe Transaction</td>\n",
       "      <td>13051</td>\n",
       "      <td>Harwood</td>\n",
       "      <td>MD</td>\n",
       "      <td>20776.0</td>\n",
       "      <td>5813</td>\n",
       "      <td>0</td>\n",
       "    </tr>\n",
       "    <tr>\n",
       "      <th>5</th>\n",
       "      <td>7475333</td>\n",
       "      <td>2010-01-01 00:07:00</td>\n",
       "      <td>1807</td>\n",
       "      <td>-0.467402</td>\n",
       "      <td>Swipe Transaction</td>\n",
       "      <td>20519</td>\n",
       "      <td>Bronx</td>\n",
       "      <td>NY</td>\n",
       "      <td>10464.0</td>\n",
       "      <td>5942</td>\n",
       "      <td>0</td>\n",
       "    </tr>\n",
       "    <tr>\n",
       "      <th>...</th>\n",
       "      <td>...</td>\n",
       "      <td>...</td>\n",
       "      <td>...</td>\n",
       "      <td>...</td>\n",
       "      <td>...</td>\n",
       "      <td>...</td>\n",
       "      <td>...</td>\n",
       "      <td>...</td>\n",
       "      <td>...</td>\n",
       "      <td>...</td>\n",
       "      <td>...</td>\n",
       "    </tr>\n",
       "    <tr>\n",
       "      <th>13305905</th>\n",
       "      <td>23761862</td>\n",
       "      <td>2019-10-31 23:54:00</td>\n",
       "      <td>672</td>\n",
       "      <td>-0.367960</td>\n",
       "      <td>Chip Transaction</td>\n",
       "      <td>47508</td>\n",
       "      <td>Cosby</td>\n",
       "      <td>TN</td>\n",
       "      <td>37722.0</td>\n",
       "      <td>7230</td>\n",
       "      <td>0</td>\n",
       "    </tr>\n",
       "    <tr>\n",
       "      <th>13305906</th>\n",
       "      <td>23761863</td>\n",
       "      <td>2019-10-31 23:54:00</td>\n",
       "      <td>1384</td>\n",
       "      <td>0.294333</td>\n",
       "      <td>Chip Transaction</td>\n",
       "      <td>58136</td>\n",
       "      <td>Williamson</td>\n",
       "      <td>GA</td>\n",
       "      <td>30292.0</td>\n",
       "      <td>5812</td>\n",
       "      <td>0</td>\n",
       "    </tr>\n",
       "    <tr>\n",
       "      <th>13305910</th>\n",
       "      <td>23761868</td>\n",
       "      <td>2019-10-31 23:56:00</td>\n",
       "      <td>1718</td>\n",
       "      <td>-0.512714</td>\n",
       "      <td>Chip Transaction</td>\n",
       "      <td>86438</td>\n",
       "      <td>West Covina</td>\n",
       "      <td>CA</td>\n",
       "      <td>91792.0</td>\n",
       "      <td>5499</td>\n",
       "      <td>0</td>\n",
       "    </tr>\n",
       "    <tr>\n",
       "      <th>13305911</th>\n",
       "      <td>23761869</td>\n",
       "      <td>2019-10-31 23:56:00</td>\n",
       "      <td>1766</td>\n",
       "      <td>-0.369552</td>\n",
       "      <td>Online Transaction</td>\n",
       "      <td>39261</td>\n",
       "      <td>ONLINE</td>\n",
       "      <td>NaN</td>\n",
       "      <td>NaN</td>\n",
       "      <td>5815</td>\n",
       "      <td>0</td>\n",
       "    </tr>\n",
       "    <tr>\n",
       "      <th>13305912</th>\n",
       "      <td>23761870</td>\n",
       "      <td>2019-10-31 23:57:00</td>\n",
       "      <td>199</td>\n",
       "      <td>-0.031058</td>\n",
       "      <td>Swipe Transaction</td>\n",
       "      <td>2925</td>\n",
       "      <td>Allen</td>\n",
       "      <td>TX</td>\n",
       "      <td>75002.0</td>\n",
       "      <td>4900</td>\n",
       "      <td>0</td>\n",
       "    </tr>\n",
       "  </tbody>\n",
       "</table>\n",
       "<p>8914963 rows × 11 columns</p>\n",
       "</div>"
      ],
      "text/plain": [
       "                id                 date  client_id    amount  \\\n",
       "0          7475327  2010-01-01 00:01:00       1556 -1.469291   \n",
       "1          7475328  2010-01-01 00:02:00        561 -0.347876   \n",
       "2          7475329  2010-01-01 00:02:00       1129  0.453415   \n",
       "4          7475332  2010-01-01 00:06:00        848  0.042054   \n",
       "5          7475333  2010-01-01 00:07:00       1807 -0.467402   \n",
       "...            ...                  ...        ...       ...   \n",
       "13305905  23761862  2019-10-31 23:54:00        672 -0.367960   \n",
       "13305906  23761863  2019-10-31 23:54:00       1384  0.294333   \n",
       "13305910  23761868  2019-10-31 23:56:00       1718 -0.512714   \n",
       "13305911  23761869  2019-10-31 23:56:00       1766 -0.369552   \n",
       "13305912  23761870  2019-10-31 23:57:00        199 -0.031058   \n",
       "\n",
       "                    use_chip  merchant_id merchant_city merchant_state  \\\n",
       "0          Swipe Transaction        59935        Beulah             ND   \n",
       "1          Swipe Transaction        67570    Bettendorf             IA   \n",
       "2          Swipe Transaction        27092         Vista             CA   \n",
       "4          Swipe Transaction        13051       Harwood             MD   \n",
       "5          Swipe Transaction        20519         Bronx             NY   \n",
       "...                      ...          ...           ...            ...   \n",
       "13305905    Chip Transaction        47508         Cosby             TN   \n",
       "13305906    Chip Transaction        58136    Williamson             GA   \n",
       "13305910    Chip Transaction        86438   West Covina             CA   \n",
       "13305911  Online Transaction        39261        ONLINE            NaN   \n",
       "13305912   Swipe Transaction         2925         Allen             TX   \n",
       "\n",
       "              zip   mcc  is_fraud  \n",
       "0         58523.0  5499         0  \n",
       "1         52722.0  5311         0  \n",
       "2         92084.0  4829         0  \n",
       "4         20776.0  5813         0  \n",
       "5         10464.0  5942         0  \n",
       "...           ...   ...       ...  \n",
       "13305905  37722.0  7230         0  \n",
       "13305906  30292.0  5812         0  \n",
       "13305910  91792.0  5499         0  \n",
       "13305911      NaN  5815         0  \n",
       "13305912  75002.0  4900         0  \n",
       "\n",
       "[8914963 rows x 11 columns]"
      ]
     },
     "execution_count": 24,
     "metadata": {},
     "output_type": "execute_result"
    }
   ],
   "source": [
    "df_transactions"
   ]
  },
  {
   "cell_type": "code",
   "execution_count": 25,
   "metadata": {},
   "outputs": [],
   "source": [
    "use_chip_unique          = df_transactions['use_chip'].unique()\n",
    "merchant_category_unique = df_transactions['merchant_city'].unique()\n",
    "merchant_state_unique    = df_transactions['merchant_state'].unique()\n",
    "merchant_state_unique = [state for state in merchant_state_unique if pd.notnull(state)]\n",
    "\n",
    "#\n",
    "df_transactions[\"use_chip\"] = pd.Categorical(df_transactions[\"use_chip\"], categories=use_chip_unique).codes\n",
    "df_transactions[\"merchant_city\"] = pd.Categorical(df_transactions[\"merchant_city\"], categories=merchant_category_unique).codes\n",
    "df_transactions[\"merchant_state\"] = pd.Categorical(df_transactions[\"merchant_state\"], categories=merchant_state_unique).codes\n"
   ]
  },
  {
   "cell_type": "code",
   "execution_count": 26,
   "metadata": {},
   "outputs": [],
   "source": [
    "df_transactions_old = df_transactions.copy()"
   ]
  },
  {
   "cell_type": "code",
   "execution_count": 27,
   "metadata": {},
   "outputs": [],
   "source": [
    "df_transactions_fraud     = df_transactions[df_transactions['is_fraud'] == 1]\n",
    "df_transactions_non_fraud = df_transactions[df_transactions['is_fraud'] == 0]"
   ]
  },
  {
   "cell_type": "code",
   "execution_count": 28,
   "metadata": {},
   "outputs": [
    {
     "data": {
      "text/plain": [
       "(3, 12173, 199)"
      ]
     },
     "execution_count": 28,
     "metadata": {},
     "output_type": "execute_result"
    }
   ],
   "source": [
    "len(use_chip_unique), len(merchant_category_unique), len(merchant_state_unique)"
   ]
  },
  {
   "cell_type": "code",
   "execution_count": null,
   "metadata": {},
   "outputs": [],
   "source": []
  },
  {
   "cell_type": "code",
   "execution_count": 29,
   "metadata": {},
   "outputs": [
    {
     "data": {
      "text/plain": [
       "199"
      ]
     },
     "execution_count": 29,
     "metadata": {},
     "output_type": "execute_result"
    }
   ],
   "source": [
    "len(merchant_state_unique)"
   ]
  },
  {
   "cell_type": "code",
   "execution_count": 30,
   "metadata": {},
   "outputs": [],
   "source": [
    "porcent_train = 0.8\n",
    "\n",
    "df_train = df_transactions.sample(frac=porcent_train)\n",
    "df_test  = df_transactions.drop(df_train.index)\n"
   ]
  },
  {
   "cell_type": "code",
   "execution_count": 31,
   "metadata": {},
   "outputs": [
    {
     "name": "stdout",
     "output_type": "stream",
     "text": [
      "(10539, 11) (7121431, 11)\n",
      "Iteración 1 - Error: 0.1050, AUC-ROC: 0.9366\n",
      "Iteración 2 - Error: 0.3200, AUC-ROC: 0.7011\n",
      "Iteración 3 - Error: 0.1850, AUC-ROC: 0.8283\n",
      "\n",
      "Resultados Promedio:\n",
      "Error Medio: 0.2033\n",
      "AUC-ROC Medio: 0.8220\n"
     ]
    }
   ],
   "source": [
    "import pandas as pd\n",
    "import numpy as np\n",
    "from sklearn.experimental import enable_hist_gradient_boosting\n",
    "from sklearn.ensemble import HistGradientBoostingClassifier\n",
    "from sklearn.model_selection import train_test_split\n",
    "from sklearn.metrics import roc_auc_score\n",
    "\n",
    "# Definir el número de iteraciones y el tamaño de las muestras\n",
    "num_iterations = 3  # Puedes cambiar este valor para más muestras\n",
    "sample_size = 500  # Tamaño de cada muestra\n",
    "\n",
    "# Inicializar el modelo\n",
    "model = HistGradientBoostingClassifier(max_iter=1000, warm_start=True)\n",
    "\n",
    "# Listas para almacenar resultados\n",
    "errors = []\n",
    "auc_scores = []\n",
    "\n",
    "df_train_is_fraud  = df_train[df_train['is_fraud'] == 1]\n",
    "df_train_not_fraud = df_train[df_train['is_fraud'] == 0]\n",
    "print(df_train_is_fraud.shape, df_train_not_fraud.shape)\n",
    "\n",
    "for i in range(num_iterations):\n",
    "    # Crear una muestra aleatoria de 5000 filas\n",
    "    ind_rand_is_fraud  = np.random.choice(df_train_is_fraud.index, sample_size, replace=False)\n",
    "    ind_rand_not_fraud = np.random.choice(df_train_not_fraud.index, sample_size, replace=False)\n",
    "\n",
    "    df_train_sample = pd.concat([df_train_is_fraud.loc[ind_rand_is_fraud], \n",
    "                                 df_train_not_fraud.loc[ind_rand_not_fraud]])\n",
    "    \n",
    "    # Codificar variables categóricas\n",
    "    df_train_sample = pd.get_dummies(df_train_sample, columns=['merchant_city', 'merchant_state', 'mcc', 'use_chip'],\n",
    "                                     drop_first=True, dtype='int64')\n",
    "    \n",
    "    # Separar características y etiqueta de fraude\n",
    "    X = df_train_sample.drop(columns=['id', 'date', 'is_fraud'])\n",
    "    y = df_train_sample['is_fraud']\n",
    "    \n",
    "    # Dividir en conjunto de entrenamiento y prueba\n",
    "    X_train, X_test, y_train, y_test = train_test_split(X, y, test_size=0.2, random_state=42)\n",
    "    \n",
    "    # Entrenamiento incremental del modelo\n",
    "    if i > 0:\n",
    "        model.set_params(max_iter=model.max_iter + 100)  # Incrementa iteraciones para mejorar en cada paso\n",
    "    model.fit(X_train, y_train)\n",
    "    \n",
    "    # Predecir en el conjunto de prueba\n",
    "    y_pred_proba = model.predict_proba(X_test)[:, 1]\n",
    "    \n",
    "    # Calcular error y AUC-ROC\n",
    "    y_pred = (y_pred_proba >= 0.5).astype(int)  # Usar umbral de 0.5 para clasificar\n",
    "    error = np.mean(y_pred != y_test)\n",
    "    auc = roc_auc_score(y_test, y_pred_proba)\n",
    "    \n",
    "    # Almacenar resultados\n",
    "    errors.append(error)\n",
    "    auc_scores.append(auc)\n",
    "    \n",
    "    print(f\"Iteración {i+1} - Error: {error:.4f}, AUC-ROC: {auc:.4f}\")\n",
    "\n",
    "# Mostrar resultados promedio\n",
    "print(\"\\nResultados Promedio:\")\n",
    "print(f\"Error Medio: {np.mean(errors):.4f}\")\n",
    "print(f\"AUC-ROC Medio: {np.mean(auc_scores):.4f}\")\n"
   ]
  },
  {
   "cell_type": "code",
   "execution_count": 32,
   "metadata": {},
   "outputs": [
    {
     "data": {
      "text/plain": [
       "[<matplotlib.lines.Line2D at 0x7279d334afd0>]"
      ]
     },
     "execution_count": 32,
     "metadata": {},
     "output_type": "execute_result"
    },
    {
     "data": {
      "image/png": "[encoded data removed]",
      "text/plain": [
       "<Figure size 1000x600 with 1 Axes>"
      ]
     },
     "metadata": {},
     "output_type": "display_data"
    }
   ],
   "source": [
    "# plot \n",
    "import matplotlib.pyplot as plt\n",
    "\n",
    "plt.figure(figsize=(10, 6))\n",
    "plt.plot(range(1, num_iterations + 1), errors, marker='o', label='Error')"
   ]
  },
  {
   "cell_type": "code",
   "execution_count": 33,
   "metadata": {},
   "outputs": [
    {
     "data": {
      "text/plain": [
       "[<matplotlib.lines.Line2D at 0x7278eb9d6850>]"
      ]
     },
     "execution_count": 33,
     "metadata": {},
     "output_type": "execute_result"
    },
    {
     "data": {
      "image/png": "[encoded data removed]",
      "text/plain": [
       "<Figure size 640x480 with 1 Axes>"
      ]
     },
     "metadata": {},
     "output_type": "display_data"
    }
   ],
   "source": [
    "# ROC-AUC\n",
    "plt.plot(range(1, num_iterations + 1), auc_scores, marker='o', label='AUC-ROC')\n"
   ]
  },
  {
   "cell_type": "code",
   "execution_count": null,
   "metadata": {},
   "outputs": [],
   "source": []
  }
 ],
 "metadata": {
  "kernelspec": {
   "display_name": ".conda",
   "language": "python",
   "name": "python3"
  },
  "language_info": {
   "codemirror_mode": {
    "name": "ipython",
    "version": 3
   },
   "file_extension": ".py",
   "mimetype": "text/x-python",
   "name": "python",
   "nbconvert_exporter": "python",
   "pygments_lexer": "ipython3",
   "version": "3.13.0"
  }
 },
 "nbformat": 4,
 "nbformat_minor": 2
}
