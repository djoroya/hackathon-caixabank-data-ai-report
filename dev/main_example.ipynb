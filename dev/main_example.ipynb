{
 "cells": [
  {
   "cell_type": "markdown",
   "metadata": {},
   "source": [
    "Dispositivo\tPaís\tFranja Horaria\tCompra (Target)\n",
    "Móvil\tEspaña\tNoche\tSí\n",
    "Ordenador\tMéxico\tTarde\tNo\n",
    "Tablet\tEspaña\tMañana\tSí\n",
    "Móvil\tEstados Unidos\tNoche\tNo\n",
    "Ordenador\tMéxico\tNoche\tSí\n",
    "Tablet\tEspaña\tTarde\tNo"
   ]
  },
  {
   "cell_type": "code",
   "execution_count": 29,
   "metadata": {},
   "outputs": [],
   "source": [
    "import pandas as pd"
   ]
  },
  {
   "cell_type": "code",
   "execution_count": 30,
   "metadata": {},
   "outputs": [],
   "source": [
    "df = pd.DataFrame({\n",
    "    \"Dispositivo\": [\"Movil\", \"Tablet\", \"PC\", \"Movil\", \"Tablet\", \"PC\"],\n",
    "    \"Pais\": [\"ES\", \"ES\", \"ES\", \"US\", \"US\", \"US\"],\n",
    "    \"Franja Horaria\": [\"Mañana\", \"Mañana\", \"Mañana\", \"Tarde\", \"Tarde\", \"Tarde\"],\n",
    "    \"Compra\":[\"Si\", \"No\", \"Si\", \"No\", \"Si\", \"No\"]\n",
    "})"
   ]
  },
  {
   "cell_type": "code",
   "execution_count": 31,
   "metadata": {},
   "outputs": [
    {
     "data": {
      "text/html": [
       "<div>\n",
       "<style scoped>\n",
       "    .dataframe tbody tr th:only-of-type {\n",
       "        vertical-align: middle;\n",
       "    }\n",
       "\n",
       "    .dataframe tbody tr th {\n",
       "        vertical-align: top;\n",
       "    }\n",
       "\n",
       "    .dataframe thead th {\n",
       "        text-align: right;\n",
       "    }\n",
       "</style>\n",
       "<table border=\"1\" class=\"dataframe\">\n",
       "  <thead>\n",
       "    <tr style=\"text-align: right;\">\n",
       "      <th></th>\n",
       "      <th>Dispositivo</th>\n",
       "      <th>Pais</th>\n",
       "      <th>Franja Horaria</th>\n",
       "      <th>Compra</th>\n",
       "    </tr>\n",
       "  </thead>\n",
       "  <tbody>\n",
       "    <tr>\n",
       "      <th>0</th>\n",
       "      <td>Movil</td>\n",
       "      <td>ES</td>\n",
       "      <td>Mañana</td>\n",
       "      <td>Si</td>\n",
       "    </tr>\n",
       "    <tr>\n",
       "      <th>1</th>\n",
       "      <td>Tablet</td>\n",
       "      <td>ES</td>\n",
       "      <td>Mañana</td>\n",
       "      <td>No</td>\n",
       "    </tr>\n",
       "    <tr>\n",
       "      <th>2</th>\n",
       "      <td>PC</td>\n",
       "      <td>ES</td>\n",
       "      <td>Mañana</td>\n",
       "      <td>Si</td>\n",
       "    </tr>\n",
       "    <tr>\n",
       "      <th>3</th>\n",
       "      <td>Movil</td>\n",
       "      <td>US</td>\n",
       "      <td>Tarde</td>\n",
       "      <td>No</td>\n",
       "    </tr>\n",
       "    <tr>\n",
       "      <th>4</th>\n",
       "      <td>Tablet</td>\n",
       "      <td>US</td>\n",
       "      <td>Tarde</td>\n",
       "      <td>Si</td>\n",
       "    </tr>\n",
       "    <tr>\n",
       "      <th>5</th>\n",
       "      <td>PC</td>\n",
       "      <td>US</td>\n",
       "      <td>Tarde</td>\n",
       "      <td>No</td>\n",
       "    </tr>\n",
       "  </tbody>\n",
       "</table>\n",
       "</div>"
      ],
      "text/plain": [
       "  Dispositivo Pais Franja Horaria Compra\n",
       "0       Movil   ES         Mañana     Si\n",
       "1      Tablet   ES         Mañana     No\n",
       "2          PC   ES         Mañana     Si\n",
       "3       Movil   US          Tarde     No\n",
       "4      Tablet   US          Tarde     Si\n",
       "5          PC   US          Tarde     No"
      ]
     },
     "execution_count": 31,
     "metadata": {},
     "output_type": "execute_result"
    }
   ],
   "source": [
    "df"
   ]
  },
  {
   "cell_type": "code",
   "execution_count": 32,
   "metadata": {},
   "outputs": [],
   "source": [
    "df_one_hot = pd.get_dummies(df, columns=[\"Dispositivo\", \"Pais\", \"Franja Horaria\"])\n",
    "df_one_hot['Compra'] = df_one_hot['Compra'].map({'Si': 1, 'No': 0})\n"
   ]
  },
  {
   "cell_type": "code",
   "execution_count": 33,
   "metadata": {},
   "outputs": [
    {
     "data": {
      "text/html": [
       "<div>\n",
       "<style scoped>\n",
       "    .dataframe tbody tr th:only-of-type {\n",
       "        vertical-align: middle;\n",
       "    }\n",
       "\n",
       "    .dataframe tbody tr th {\n",
       "        vertical-align: top;\n",
       "    }\n",
       "\n",
       "    .dataframe thead th {\n",
       "        text-align: right;\n",
       "    }\n",
       "</style>\n",
       "<table border=\"1\" class=\"dataframe\">\n",
       "  <thead>\n",
       "    <tr style=\"text-align: right;\">\n",
       "      <th></th>\n",
       "      <th>Compra</th>\n",
       "      <th>Dispositivo_Movil</th>\n",
       "      <th>Dispositivo_PC</th>\n",
       "      <th>Dispositivo_Tablet</th>\n",
       "      <th>Pais_ES</th>\n",
       "      <th>Pais_US</th>\n",
       "      <th>Franja Horaria_Mañana</th>\n",
       "      <th>Franja Horaria_Tarde</th>\n",
       "    </tr>\n",
       "  </thead>\n",
       "  <tbody>\n",
       "    <tr>\n",
       "      <th>0</th>\n",
       "      <td>1</td>\n",
       "      <td>True</td>\n",
       "      <td>False</td>\n",
       "      <td>False</td>\n",
       "      <td>True</td>\n",
       "      <td>False</td>\n",
       "      <td>True</td>\n",
       "      <td>False</td>\n",
       "    </tr>\n",
       "    <tr>\n",
       "      <th>1</th>\n",
       "      <td>0</td>\n",
       "      <td>False</td>\n",
       "      <td>False</td>\n",
       "      <td>True</td>\n",
       "      <td>True</td>\n",
       "      <td>False</td>\n",
       "      <td>True</td>\n",
       "      <td>False</td>\n",
       "    </tr>\n",
       "    <tr>\n",
       "      <th>2</th>\n",
       "      <td>1</td>\n",
       "      <td>False</td>\n",
       "      <td>True</td>\n",
       "      <td>False</td>\n",
       "      <td>True</td>\n",
       "      <td>False</td>\n",
       "      <td>True</td>\n",
       "      <td>False</td>\n",
       "    </tr>\n",
       "    <tr>\n",
       "      <th>3</th>\n",
       "      <td>0</td>\n",
       "      <td>True</td>\n",
       "      <td>False</td>\n",
       "      <td>False</td>\n",
       "      <td>False</td>\n",
       "      <td>True</td>\n",
       "      <td>False</td>\n",
       "      <td>True</td>\n",
       "    </tr>\n",
       "    <tr>\n",
       "      <th>4</th>\n",
       "      <td>1</td>\n",
       "      <td>False</td>\n",
       "      <td>False</td>\n",
       "      <td>True</td>\n",
       "      <td>False</td>\n",
       "      <td>True</td>\n",
       "      <td>False</td>\n",
       "      <td>True</td>\n",
       "    </tr>\n",
       "    <tr>\n",
       "      <th>5</th>\n",
       "      <td>0</td>\n",
       "      <td>False</td>\n",
       "      <td>True</td>\n",
       "      <td>False</td>\n",
       "      <td>False</td>\n",
       "      <td>True</td>\n",
       "      <td>False</td>\n",
       "      <td>True</td>\n",
       "    </tr>\n",
       "  </tbody>\n",
       "</table>\n",
       "</div>"
      ],
      "text/plain": [
       "   Compra  Dispositivo_Movil  Dispositivo_PC  Dispositivo_Tablet  Pais_ES  \\\n",
       "0       1               True           False               False     True   \n",
       "1       0              False           False                True     True   \n",
       "2       1              False            True               False     True   \n",
       "3       0               True           False               False    False   \n",
       "4       1              False           False                True    False   \n",
       "5       0              False            True               False    False   \n",
       "\n",
       "   Pais_US  Franja Horaria_Mañana  Franja Horaria_Tarde  \n",
       "0    False                   True                 False  \n",
       "1    False                   True                 False  \n",
       "2    False                   True                 False  \n",
       "3     True                  False                  True  \n",
       "4     True                  False                  True  \n",
       "5     True                  False                  True  "
      ]
     },
     "execution_count": 33,
     "metadata": {},
     "output_type": "execute_result"
    }
   ],
   "source": [
    "df_one_hot"
   ]
  },
  {
   "cell_type": "code",
   "execution_count": 34,
   "metadata": {},
   "outputs": [],
   "source": [
    "from sklearn.model_selection import train_test_split\n",
    "\n",
    "# Variables independientes (X) y dependiente (y)\n",
    "X = df_one_hot.drop('Compra', axis=1)\n",
    "y = df_one_hot['Compra']\n",
    "\n",
    "# Dividir el dataset\n",
    "X_train, X_test, y_train, y_test = train_test_split(X, y, test_size=0.3, random_state=42)\n"
   ]
  },
  {
   "cell_type": "code",
   "execution_count": 47,
   "metadata": {},
   "outputs": [],
   "source": [
    "from sklearn.neural_network import MLPClassifier\n",
    "from sklearn.preprocessing import StandardScaler\n",
    "import numpy as np\n",
    "\n",
    "# Supongamos que X e y representan tu dataset de características y etiquetas\n",
    "# Calcular los parámetros de escalado sobre el dataset completo\n",
    "scaler = StandardScaler()\n",
    "scaler.fit(X)  # Ajusta el escalador con el dataset completo\n",
    "\n",
    "# Definir el modelo MLPClassifier\n",
    "model = MLPClassifier(hidden_layer_sizes=(100,), max_iter=1, warm_start=True)\n",
    "\n",
    "# Definir las clases del modelo (es importante para partial_fit)\n",
    "classes = np.unique(y)\n",
    "\n",
    "# Dividir el dataset en chunks y entrenar con partial_fit\n",
    "chunk_size = 1000  # Define el tamaño del chunk\n",
    "\n",
    "def get_chunks(X, y, chunk_size):\n",
    "    \n",
    "    id_random = np.random.permutation(len(X))\n",
    "    X = X.iloc[id_random]\n",
    "    y = y.iloc[id_random]\n",
    "\n",
    "    return X, y\n",
    "\n",
    "for i in range(0, len(X), chunk_size):\n",
    "    \n",
    "    # Obtener el chunk actual\n",
    "    X_chunk, y_chunk = get_chunks(X_train, y_train, chunk_size)\n",
    "    \n",
    "    # Aplicar la normalización a cada chunk utilizando el escalador ajustado\n",
    "    X_chunk = scaler.transform(X_chunk)\n",
    "    \n",
    "    # Entrenamiento incremental en el chunk actual\n",
    "    model.partial_fit(X_chunk, y_chunk, classes=classes)\n"
   ]
  },
  {
   "cell_type": "code",
   "execution_count": 42,
   "metadata": {},
   "outputs": [
    {
     "name": "stderr",
     "output_type": "stream",
     "text": [
      "/home/djoroya/Documents/desafio/hackathon-caixabank-data-ai-report/.conda/lib/python3.13/site-packages/sklearn/base.py:486: UserWarning: X has feature names, but MLPClassifier was fitted without feature names\n",
      "  warnings.warn(\n"
     ]
    }
   ],
   "source": [
    "\n",
    "# Predicciones\n",
    "y_pred = model.predict(X_test)\n"
   ]
  },
  {
   "cell_type": "code",
   "execution_count": 43,
   "metadata": {},
   "outputs": [
    {
     "name": "stdout",
     "output_type": "stream",
     "text": [
      "Exactitud del modelo: 1.0\n"
     ]
    }
   ],
   "source": [
    "from sklearn.metrics import accuracy_score, confusion_matrix, classification_report\n",
    "\n",
    "# Exactitud del modelo\n",
    "accuracy = accuracy_score(y_test, y_pred)\n",
    "print(\"Exactitud del modelo:\", accuracy)\n"
   ]
  },
  {
   "cell_type": "code",
   "execution_count": 44,
   "metadata": {},
   "outputs": [
    {
     "name": "stdout",
     "output_type": "stream",
     "text": [
      "Matriz de Confusión:\n",
      "Verdaderos positivos: 1\n",
      "Falsos positivos: 0\n",
      "Falsos negativos: 0\n",
      "Verdaderos negativos: 1\n"
     ]
    }
   ],
   "source": [
    "\n",
    "# Matriz de confusión\n",
    "print(\"Matriz de Confusión:\")\n",
    "mc = confusion_matrix(y_test, y_pred)\n",
    "\n",
    "print(\"Verdaderos positivos:\", mc[0][0])\n",
    "print(\"Falsos positivos:\", mc[0][1])\n",
    "print(\"Falsos negativos:\", mc[1][0])\n",
    "print(\"Verdaderos negativos:\", mc[1][1])\n",
    "\n",
    "\n"
   ]
  },
  {
   "cell_type": "code",
   "execution_count": 45,
   "metadata": {},
   "outputs": [
    {
     "name": "stdout",
     "output_type": "stream",
     "text": [
      "Reporte de Clasificación:\n",
      "              precision    recall  f1-score   support\n",
      "\n",
      "           0       1.00      1.00      1.00         1\n",
      "           1       1.00      1.00      1.00         1\n",
      "\n",
      "    accuracy                           1.00         2\n",
      "   macro avg       1.00      1.00      1.00         2\n",
      "weighted avg       1.00      1.00      1.00         2\n",
      "\n"
     ]
    }
   ],
   "source": [
    "\n",
    "# Reporte de clasificación\n",
    "print(\"Reporte de Clasificación:\")\n",
    "print(classification_report(y_test, y_pred))\n"
   ]
  },
  {
   "cell_type": "code",
   "execution_count": null,
   "metadata": {},
   "outputs": [],
   "source": []
  }
 ],
 "metadata": {
  "kernelspec": {
   "display_name": ".conda",
   "language": "python",
   "name": "python3"
  },
  "language_info": {
   "codemirror_mode": {
    "name": "ipython",
    "version": 3
   },
   "file_extension": ".py",
   "mimetype": "text/x-python",
   "name": "python",
   "nbconvert_exporter": "python",
   "pygments_lexer": "ipython3",
   "version": "3.13.0"
  }
 },
 "nbformat": 4,
 "nbformat_minor": 2
}
