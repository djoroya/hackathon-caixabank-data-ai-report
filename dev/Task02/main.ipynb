{
 "cells": [
  {
   "cell_type": "code",
   "execution_count": 1,
   "metadata": {},
   "outputs": [],
   "source": [
    "import requests"
   ]
  },
  {
   "cell_type": "code",
   "execution_count": 2,
   "metadata": {},
   "outputs": [],
   "source": [
    "url = \"https://cdn.nuwe.io/challenges-ds-datasets/hackathon-caixabank-data-24/train_fraud_labels.json\"\n",
    "response = requests.get(url)"
   ]
  },
  {
   "cell_type": "code",
   "execution_count": 3,
   "metadata": {},
   "outputs": [],
   "source": [
    "# save \n",
    "with open(\"train_fraud_labels.json\", \"wb\") as file:\n",
    "    file.write(response.content)"
   ]
  },
  {
   "cell_type": "code",
   "execution_count": 1,
   "metadata": {},
   "outputs": [],
   "source": [
    "import pandas as pd\n",
    "from matplotlib import pyplot as plt"
   ]
  },
  {
   "cell_type": "code",
   "execution_count": 2,
   "metadata": {},
   "outputs": [],
   "source": [
    "\n",
    "df_transactions = pd.read_csv('data/transactions_data.csv')"
   ]
  },
  {
   "cell_type": "code",
   "execution_count": 3,
   "metadata": {},
   "outputs": [],
   "source": [
    "def earnings_and_expenses(\n",
    "    df: pd.DataFrame, client_id: int, start_date: str, end_date: str\n",
    ") -> pd.DataFrame:\n",
    "    \"\"\"\n",
    "    For the period defined in between start_date and end_date (both included), get the client data available and return\n",
    "    a pandas DataFrame with the Earnings and Expenses total amount for the period range and user given.The expected columns are:\n",
    "        - Earnings\n",
    "        - Expenses\n",
    "    The DataFrame should have the columns in this order ['Earnings','Expenses']. Round the amounts to 2 decimals.\n",
    "\n",
    "    Create a Bar Plot with the Earnings and Expenses absolute values and save it as \"reports/figures/earnings_and_expenses.png\" .\n",
    "\n",
    "    Parameters\n",
    "    ----------\n",
    "    df : pandas DataFrame\n",
    "       DataFrame of the data to be used for the agent.\n",
    "    client_id : int\n",
    "        Id of the client.\n",
    "    start_date : str\n",
    "        Start date for the date period. In the format \"YYYY-MM-DD\".\n",
    "    end_date : str\n",
    "        End date for the date period. In the format \"YYYY-MM-DD\".\n",
    "\n",
    "\n",
    "    Returns\n",
    "    -------\n",
    "    Pandas Dataframe with the earnings and expenses rounded to 2 decimals.\n",
    "\n",
    "    \"\"\"\n",
    "\n",
    "    # if df\n",
    "    if  df[\"date\"].dtype != \"datetime64[ns]\":\n",
    "        df[\"date\"] = pd.to_datetime(df[\"date\"])\n",
    "    if df[\"amount\"].dtype != \"float64\":\n",
    "        df[\"amount\"] = df[\"amount\"].apply(lambda x: x.replace(\"$\", \"\").replace(\",\", \"\")).astype(float)\n",
    "\n",
    "    # verify if the client_id exists\n",
    "    if client_id not in df[\"client_id\"].unique():\n",
    "        raise ValueError(\"client_id not found in the DataFrame\")\n",
    "\n",
    "    # verify if the date range is correct\n",
    "    if start_date > end_date:\n",
    "        raise ValueError(\"Start date must be before end date\")\n",
    "    \n",
    "\n",
    "    df_selected = df[(df[\"client_id\"] == client_id) & (df[\"date\"] >= start_date) & (df[\"date\"] <= end_date)]\n",
    "    Earnings = df_selected[df_selected[\"amount\"] > 0][\"amount\"].sum()\n",
    "    Expenses = -df_selected[df_selected[\"amount\"] < 0][\"amount\"].sum()\n",
    "\n",
    "    fig, ax = plt.subplots()\n",
    "    ax.bar([\"Earnings\", \"Expenses\"], [Earnings, Expenses])\n",
    "    plt.grid()\n",
    "    plt.title(\"client_id: {} from {} to {}\".format(client_id, start_date, end_date))\n",
    "    # tick to dollars\n",
    "    ax.get_yaxis().set_major_formatter(plt.FuncFormatter(lambda x, loc: \"${:,}\".format(int(x))))\n",
    "    \n",
    "    return pd.DataFrame({\"Earnings\": [round(Earnings, 2)], \"Expenses\": [round(Expenses, 2)]})\n"
   ]
  },
  {
   "cell_type": "code",
   "execution_count": 4,
   "metadata": {},
   "outputs": [
    {
     "data": {
      "text/html": [
       "<div>\n",
       "<style scoped>\n",
       "    .dataframe tbody tr th:only-of-type {\n",
       "        vertical-align: middle;\n",
       "    }\n",
       "\n",
       "    .dataframe tbody tr th {\n",
       "        vertical-align: top;\n",
       "    }\n",
       "\n",
       "    .dataframe thead th {\n",
       "        text-align: right;\n",
       "    }\n",
       "</style>\n",
       "<table border=\"1\" class=\"dataframe\">\n",
       "  <thead>\n",
       "    <tr style=\"text-align: right;\">\n",
       "      <th></th>\n",
       "      <th>id</th>\n",
       "      <th>date</th>\n",
       "      <th>client_id</th>\n",
       "      <th>card_id</th>\n",
       "      <th>amount</th>\n",
       "      <th>use_chip</th>\n",
       "      <th>merchant_id</th>\n",
       "      <th>merchant_city</th>\n",
       "      <th>merchant_state</th>\n",
       "      <th>zip</th>\n",
       "      <th>mcc</th>\n",
       "      <th>errors</th>\n",
       "    </tr>\n",
       "  </thead>\n",
       "  <tbody>\n",
       "    <tr>\n",
       "      <th>0</th>\n",
       "      <td>7475327</td>\n",
       "      <td>2010-01-01 00:01:00</td>\n",
       "      <td>1556</td>\n",
       "      <td>2972</td>\n",
       "      <td>$-77.00</td>\n",
       "      <td>Swipe Transaction</td>\n",
       "      <td>59935</td>\n",
       "      <td>Beulah</td>\n",
       "      <td>ND</td>\n",
       "      <td>58523.0</td>\n",
       "      <td>5499</td>\n",
       "      <td>NaN</td>\n",
       "    </tr>\n",
       "    <tr>\n",
       "      <th>1</th>\n",
       "      <td>7475328</td>\n",
       "      <td>2010-01-01 00:02:00</td>\n",
       "      <td>561</td>\n",
       "      <td>4575</td>\n",
       "      <td>$14.57</td>\n",
       "      <td>Swipe Transaction</td>\n",
       "      <td>67570</td>\n",
       "      <td>Bettendorf</td>\n",
       "      <td>IA</td>\n",
       "      <td>52722.0</td>\n",
       "      <td>5311</td>\n",
       "      <td>NaN</td>\n",
       "    </tr>\n",
       "    <tr>\n",
       "      <th>2</th>\n",
       "      <td>7475329</td>\n",
       "      <td>2010-01-01 00:02:00</td>\n",
       "      <td>1129</td>\n",
       "      <td>102</td>\n",
       "      <td>$80.00</td>\n",
       "      <td>Swipe Transaction</td>\n",
       "      <td>27092</td>\n",
       "      <td>Vista</td>\n",
       "      <td>CA</td>\n",
       "      <td>92084.0</td>\n",
       "      <td>4829</td>\n",
       "      <td>NaN</td>\n",
       "    </tr>\n",
       "    <tr>\n",
       "      <th>3</th>\n",
       "      <td>7475331</td>\n",
       "      <td>2010-01-01 00:05:00</td>\n",
       "      <td>430</td>\n",
       "      <td>2860</td>\n",
       "      <td>$200.00</td>\n",
       "      <td>Swipe Transaction</td>\n",
       "      <td>27092</td>\n",
       "      <td>Crown Point</td>\n",
       "      <td>IN</td>\n",
       "      <td>46307.0</td>\n",
       "      <td>4829</td>\n",
       "      <td>NaN</td>\n",
       "    </tr>\n",
       "    <tr>\n",
       "      <th>4</th>\n",
       "      <td>7475332</td>\n",
       "      <td>2010-01-01 00:06:00</td>\n",
       "      <td>848</td>\n",
       "      <td>3915</td>\n",
       "      <td>$46.41</td>\n",
       "      <td>Swipe Transaction</td>\n",
       "      <td>13051</td>\n",
       "      <td>Harwood</td>\n",
       "      <td>MD</td>\n",
       "      <td>20776.0</td>\n",
       "      <td>5813</td>\n",
       "      <td>NaN</td>\n",
       "    </tr>\n",
       "  </tbody>\n",
       "</table>\n",
       "</div>"
      ],
      "text/plain": [
       "        id                 date  client_id  card_id   amount  \\\n",
       "0  7475327  2010-01-01 00:01:00       1556     2972  $-77.00   \n",
       "1  7475328  2010-01-01 00:02:00        561     4575   $14.57   \n",
       "2  7475329  2010-01-01 00:02:00       1129      102   $80.00   \n",
       "3  7475331  2010-01-01 00:05:00        430     2860  $200.00   \n",
       "4  7475332  2010-01-01 00:06:00        848     3915   $46.41   \n",
       "\n",
       "            use_chip  merchant_id merchant_city merchant_state      zip   mcc  \\\n",
       "0  Swipe Transaction        59935        Beulah             ND  58523.0  5499   \n",
       "1  Swipe Transaction        67570    Bettendorf             IA  52722.0  5311   \n",
       "2  Swipe Transaction        27092         Vista             CA  92084.0  4829   \n",
       "3  Swipe Transaction        27092   Crown Point             IN  46307.0  4829   \n",
       "4  Swipe Transaction        13051       Harwood             MD  20776.0  5813   \n",
       "\n",
       "  errors  \n",
       "0    NaN  \n",
       "1    NaN  \n",
       "2    NaN  \n",
       "3    NaN  \n",
       "4    NaN  "
      ]
     },
     "execution_count": 4,
     "metadata": {},
     "output_type": "execute_result"
    }
   ],
   "source": [
    "df_transactions.head()"
   ]
  },
  {
   "cell_type": "code",
   "execution_count": 5,
   "metadata": {},
   "outputs": [
    {
     "data": {
      "image/png": "[encoded data removed]",
      "text/plain": [
       "<Figure size 640x480 with 1 Axes>"
      ]
     },
     "metadata": {},
     "output_type": "display_data"
    }
   ],
   "source": [
    "start_date = \"2013-01-01\"\n",
    "end_date = \"2020-01-31\"\n",
    "\n",
    "client_id = 126\n",
    "df_seleted = earnings_and_expenses(df_transactions, client_id, start_date, end_date)"
   ]
  },
  {
   "cell_type": "code",
   "execution_count": 6,
   "metadata": {},
   "outputs": [],
   "source": [
    "from data.data_functions import earnings_and_expenses as earnings_and_expenses_solution"
   ]
  },
  {
   "cell_type": "code",
   "execution_count": 7,
   "metadata": {},
   "outputs": [
    {
     "data": {
      "image/png": "[encoded data removed]",
      "text/plain": [
       "<Figure size 640x480 with 1 Axes>"
      ]
     },
     "metadata": {},
     "output_type": "display_data"
    }
   ],
   "source": [
    "start_date = \"2013-01-01\"\n",
    "end_date = \"2020-01-31\"\n",
    "\n",
    "client_id = 126\n",
    "df_seleted = earnings_and_expenses_solution(df_transactions, client_id, start_date, end_date)"
   ]
  },
  {
   "cell_type": "code",
   "execution_count": 8,
   "metadata": {},
   "outputs": [
    {
     "data": {
      "text/html": [
       "<div>\n",
       "<style scoped>\n",
       "    .dataframe tbody tr th:only-of-type {\n",
       "        vertical-align: middle;\n",
       "    }\n",
       "\n",
       "    .dataframe tbody tr th {\n",
       "        vertical-align: top;\n",
       "    }\n",
       "\n",
       "    .dataframe thead th {\n",
       "        text-align: right;\n",
       "    }\n",
       "</style>\n",
       "<table border=\"1\" class=\"dataframe\">\n",
       "  <thead>\n",
       "    <tr style=\"text-align: right;\">\n",
       "      <th></th>\n",
       "      <th>Earnings</th>\n",
       "      <th>Expenses</th>\n",
       "    </tr>\n",
       "  </thead>\n",
       "  <tbody>\n",
       "    <tr>\n",
       "      <th>0</th>\n",
       "      <td>176279.33</td>\n",
       "      <td>-18246.0</td>\n",
       "    </tr>\n",
       "  </tbody>\n",
       "</table>\n",
       "</div>"
      ],
      "text/plain": [
       "    Earnings  Expenses\n",
       "0  176279.33  -18246.0"
      ]
     },
     "execution_count": 8,
     "metadata": {},
     "output_type": "execute_result"
    }
   ],
   "source": [
    "df_seleted"
   ]
  },
  {
   "cell_type": "code",
   "execution_count": 9,
   "metadata": {},
   "outputs": [
    {
     "data": {
      "text/html": [
       "<div>\n",
       "<style scoped>\n",
       "    .dataframe tbody tr th:only-of-type {\n",
       "        vertical-align: middle;\n",
       "    }\n",
       "\n",
       "    .dataframe tbody tr th {\n",
       "        vertical-align: top;\n",
       "    }\n",
       "\n",
       "    .dataframe thead th {\n",
       "        text-align: right;\n",
       "    }\n",
       "</style>\n",
       "<table border=\"1\" class=\"dataframe\">\n",
       "  <thead>\n",
       "    <tr style=\"text-align: right;\">\n",
       "      <th></th>\n",
       "      <th>Earnings</th>\n",
       "      <th>Expenses</th>\n",
       "    </tr>\n",
       "  </thead>\n",
       "  <tbody>\n",
       "    <tr>\n",
       "      <th>0</th>\n",
       "      <td>176279.33</td>\n",
       "      <td>-18246.0</td>\n",
       "    </tr>\n",
       "  </tbody>\n",
       "</table>\n",
       "</div>"
      ],
      "text/plain": [
       "    Earnings  Expenses\n",
       "0  176279.33  -18246.0"
      ]
     },
     "execution_count": 9,
     "metadata": {},
     "output_type": "execute_result"
    }
   ],
   "source": [
    "expected_answer = pd.DataFrame(\n",
    "    {\"Earnings\": [176279.33], \"Expenses\": [-18246.0]}\n",
    ")\n",
    "expected_answer"
   ]
  },
  {
   "cell_type": "code",
   "execution_count": null,
   "metadata": {},
   "outputs": [],
   "source": []
  },
  {
   "cell_type": "code",
   "execution_count": 10,
   "metadata": {},
   "outputs": [],
   "source": [
    "pd.testing.assert_frame_equal(df_seleted, expected_answer)\n"
   ]
  },
  {
   "cell_type": "code",
   "execution_count": null,
   "metadata": {},
   "outputs": [],
   "source": []
  }
 ],
 "metadata": {
  "kernelspec": {
   "display_name": ".conda",
   "language": "python",
   "name": "python3"
  },
  "language_info": {
   "codemirror_mode": {
    "name": "ipython",
    "version": 3
   },
   "file_extension": ".py",
   "mimetype": "text/x-python",
   "name": "python",
   "nbconvert_exporter": "python",
   "pygments_lexer": "ipython3",
   "version": "3.13.0"
  }
 },
 "nbformat": 4,
 "nbformat_minor": 2
}
