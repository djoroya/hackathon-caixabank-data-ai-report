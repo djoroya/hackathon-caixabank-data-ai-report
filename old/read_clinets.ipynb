{
 "cells": [
  {
   "cell_type": "code",
   "execution_count": 85,
   "metadata": {},
   "outputs": [],
   "source": [
    "import os,glob,json"
   ]
  },
  {
   "cell_type": "code",
   "execution_count": 86,
   "metadata": {},
   "outputs": [],
   "source": [
    "data_clients = glob.glob(\"data_clients/*\")"
   ]
  },
  {
   "cell_type": "code",
   "execution_count": 87,
   "metadata": {},
   "outputs": [],
   "source": [
    "cards_clients = [ json.load(open(f)) for f in data_clients ]\n",
    "\n"
   ]
  },
  {
   "cell_type": "code",
   "execution_count": 88,
   "metadata": {},
   "outputs": [
    {
     "data": {
      "text/plain": [
       "{'client_id': '380',\n",
       " 'values': {'address': '3551 Spruce Boulevard',\n",
       "  'birth_month': '1',\n",
       "  'birth_year': '1974',\n",
       "  'credit_score': '800',\n",
       "  'current_age': '46',\n",
       "  'gender': 'Male',\n",
       "  'latitude': '41.57',\n",
       "  'longitude': '-93.61',\n",
       "  'num_credit_cards': '2',\n",
       "  'per_capita_income': '$18568',\n",
       "  'retirement_age': '70',\n",
       "  'total_debt': '$57727',\n",
       "  'yearly_income': '$37857'}}"
      ]
     },
     "execution_count": 88,
     "metadata": {},
     "output_type": "execute_result"
    }
   ],
   "source": [
    "cards_clients[0]"
   ]
  },
  {
   "cell_type": "code",
   "execution_count": 89,
   "metadata": {},
   "outputs": [],
   "source": [
    "client_id_list = []\n",
    "birth_year_list = []\n",
    "total_debt_list = []\n",
    "birth_month_list = []\n",
    "retirement_age_list = []\n",
    "credit_score_list = []\n",
    "for cards_client in cards_clients:\n",
    "        client_id_list.append(cards_client['client_id'])\n",
    "        cards_client = cards_client['values']\n",
    "        birth_year_list.append(cards_client['birth_year'])\n",
    "        birth_month_list.append(cards_client['birth_month'])\n",
    "        total_debt_list.append(cards_client['total_debt'])\n",
    "        retirement_age_list.append(cards_client['retirement_age'])\n",
    "        credit_score_list.append(cards_client['credit_score'])\n",
    "\n"
   ]
  },
  {
   "cell_type": "code",
   "execution_count": 90,
   "metadata": {},
   "outputs": [],
   "source": [
    "import pandas as pd"
   ]
  },
  {
   "cell_type": "code",
   "execution_count": 91,
   "metadata": {},
   "outputs": [],
   "source": [
    "df = pd.DataFrame({\n",
    "    'client_id': client_id_list,\n",
    "    'birth_year': birth_year_list,\n",
    "    'birth_month': birth_month_list,\n",
    "    'total_debt': total_debt_list,\n",
    "    'retirement_age': retirement_age_list,\n",
    "    'credit_score': credit_score_list\n",
    "})\n",
    "\n"
   ]
  },
  {
   "cell_type": "code",
   "execution_count": 92,
   "metadata": {},
   "outputs": [],
   "source": [
    "# total_debt $1000 -> float\n",
    "df['total_debt'] = df['total_debt'].str.replace('$','').astype(float)\n",
    "df[\"retirement_age\"] = df[\"retirement_age\"].astype(int)\n",
    "df[\"credit_score\"] = df[\"credit_score\"].astype(int)\n",
    "df[\"birth_year\"] = df[\"birth_year\"].astype(int)\n",
    "df[\"birth_month\"] = df[\"birth_month\"].astype(int)\n",
    "df[\"birth\"] = pd.to_datetime(df[\"birth_year\"].astype(str) + df[\"birth_month\"].astype(str), format='%Y%m')\n",
    "\n",
    "current_year = 2024\n",
    "import datetime\n",
    "df['age'] = (datetime.datetime.now() - df['birth']).dt.days // 365\n",
    "\n"
   ]
  },
  {
   "cell_type": "code",
   "execution_count": 93,
   "metadata": {},
   "outputs": [],
   "source": [
    "\n",
    "df[\"year_to_retirement\"] = df[\"retirement_age\"] - df[\"age\"]"
   ]
  },
  {
   "cell_type": "code",
   "execution_count": 94,
   "metadata": {},
   "outputs": [],
   "source": [
    "df.to_csv('data_clients.csv', index=False)\n"
   ]
  },
  {
   "cell_type": "code",
   "execution_count": 95,
   "metadata": {},
   "outputs": [
    {
     "data": {
      "text/html": [
       "<div>\n",
       "<style scoped>\n",
       "    .dataframe tbody tr th:only-of-type {\n",
       "        vertical-align: middle;\n",
       "    }\n",
       "\n",
       "    .dataframe tbody tr th {\n",
       "        vertical-align: top;\n",
       "    }\n",
       "\n",
       "    .dataframe thead th {\n",
       "        text-align: right;\n",
       "    }\n",
       "</style>\n",
       "<table border=\"1\" class=\"dataframe\">\n",
       "  <thead>\n",
       "    <tr style=\"text-align: right;\">\n",
       "      <th></th>\n",
       "      <th>client_id</th>\n",
       "      <th>birth_year</th>\n",
       "      <th>birth_month</th>\n",
       "      <th>total_debt</th>\n",
       "      <th>retirement_age</th>\n",
       "      <th>credit_score</th>\n",
       "      <th>birth</th>\n",
       "      <th>age</th>\n",
       "      <th>year_to_retirement</th>\n",
       "    </tr>\n",
       "  </thead>\n",
       "  <tbody>\n",
       "    <tr>\n",
       "      <th>124</th>\n",
       "      <td>1540</td>\n",
       "      <td>1964</td>\n",
       "      <td>9</td>\n",
       "      <td>63194.0</td>\n",
       "      <td>61</td>\n",
       "      <td>625</td>\n",
       "      <td>1964-09-01</td>\n",
       "      <td>60</td>\n",
       "      <td>1</td>\n",
       "    </tr>\n",
       "    <tr>\n",
       "      <th>78</th>\n",
       "      <td>1029</td>\n",
       "      <td>1953</td>\n",
       "      <td>3</td>\n",
       "      <td>86573.0</td>\n",
       "      <td>72</td>\n",
       "      <td>676</td>\n",
       "      <td>1953-03-01</td>\n",
       "      <td>71</td>\n",
       "      <td>1</td>\n",
       "    </tr>\n",
       "    <tr>\n",
       "      <th>24</th>\n",
       "      <td>1901</td>\n",
       "      <td>1956</td>\n",
       "      <td>3</td>\n",
       "      <td>107287.0</td>\n",
       "      <td>69</td>\n",
       "      <td>730</td>\n",
       "      <td>1956-03-01</td>\n",
       "      <td>68</td>\n",
       "      <td>1</td>\n",
       "    </tr>\n",
       "    <tr>\n",
       "      <th>560</th>\n",
       "      <td>641</td>\n",
       "      <td>1957</td>\n",
       "      <td>11</td>\n",
       "      <td>0.0</td>\n",
       "      <td>68</td>\n",
       "      <td>735</td>\n",
       "      <td>1957-11-01</td>\n",
       "      <td>67</td>\n",
       "      <td>1</td>\n",
       "    </tr>\n",
       "    <tr>\n",
       "      <th>567</th>\n",
       "      <td>714</td>\n",
       "      <td>1958</td>\n",
       "      <td>10</td>\n",
       "      <td>155191.0</td>\n",
       "      <td>67</td>\n",
       "      <td>760</td>\n",
       "      <td>1958-10-01</td>\n",
       "      <td>66</td>\n",
       "      <td>1</td>\n",
       "    </tr>\n",
       "    <tr>\n",
       "      <th>175</th>\n",
       "      <td>758</td>\n",
       "      <td>1956</td>\n",
       "      <td>12</td>\n",
       "      <td>36832.0</td>\n",
       "      <td>68</td>\n",
       "      <td>764</td>\n",
       "      <td>1956-12-01</td>\n",
       "      <td>67</td>\n",
       "      <td>1</td>\n",
       "    </tr>\n",
       "  </tbody>\n",
       "</table>\n",
       "</div>"
      ],
      "text/plain": [
       "    client_id  birth_year  birth_month  total_debt  retirement_age  \\\n",
       "124      1540        1964            9     63194.0              61   \n",
       "78       1029        1953            3     86573.0              72   \n",
       "24       1901        1956            3    107287.0              69   \n",
       "560       641        1957           11         0.0              68   \n",
       "567       714        1958           10    155191.0              67   \n",
       "175       758        1956           12     36832.0              68   \n",
       "\n",
       "     credit_score      birth  age  year_to_retirement  \n",
       "124           625 1964-09-01   60                   1  \n",
       "78            676 1953-03-01   71                   1  \n",
       "24            730 1956-03-01   68                   1  \n",
       "560           735 1957-11-01   67                   1  \n",
       "567           760 1958-10-01   66                   1  \n",
       "175           764 1956-12-01   67                   1  "
      ]
     },
     "execution_count": 95,
     "metadata": {},
     "output_type": "execute_result"
    }
   ],
   "source": [
    "# query_2: The client_id that will retire within a year that has the lowest credit score and highest debt.\n",
    "\n",
    "\n",
    "df.query(\"year_to_retirement == 1\").sort_values(by=['credit_score','total_debt'],ascending=[True,False])\n"
   ]
  },
  {
   "cell_type": "code",
   "execution_count": null,
   "metadata": {},
   "outputs": [],
   "source": []
  }
 ],
 "metadata": {
  "kernelspec": {
   "display_name": ".conda",
   "language": "python",
   "name": "python3"
  },
  "language_info": {
   "codemirror_mode": {
    "name": "ipython",
    "version": 3
   },
   "file_extension": ".py",
   "mimetype": "text/x-python",
   "name": "python",
   "nbconvert_exporter": "python",
   "pygments_lexer": "ipython3",
   "version": "3.13.0"
  }
 },
 "nbformat": 4,
 "nbformat_minor": 2
}
